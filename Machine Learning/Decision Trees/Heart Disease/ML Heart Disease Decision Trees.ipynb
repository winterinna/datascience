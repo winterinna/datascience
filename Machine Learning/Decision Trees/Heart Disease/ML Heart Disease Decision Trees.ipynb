{
 "cells": [
  {
   "cell_type": "markdown",
   "metadata": {},
   "source": [
    "<h1>Heart Disease</h1> \n",
    "<br>\n",
    "<h3> Context</h3> \n",
    "<br>  \n",
    "<p style=\"font-size:16px\">Based on information about heart disease I will use ML Decision Trees and Gradient Boosting Machines to see, what effect this will have on the model. General description and data are available on Kaggle: <a href>https://www.kaggle.com/ronitf/heart-disease-uci</a> \n",
    "<br> \n",
    "<h3>Attribute Information:</h3>\n",
    "age<br>\n",
    "sex (1=male, 0=female)<br>\n",
    "chest pain type (4 values)<br>\n",
    "resting blood pressure<br>\n",
    "serum cholestoral in mg/dl<br>\n",
    "fasting blood sugar > 120 mg/dl<br>\n",
    "resting electrocardiographic results (values 0,1,2)<br>\n",
    "maximum heart rate achieved<br>\n",
    "exercise induced angina<br>\n",
    "oldpeak = ST depression induced by exercise relative to rest<br>\n",
    "the slope of the peak exercise ST segment<br>\n",
    "number of major vessels (0-3) colored by flourosopy<br>\n",
    "thal: 3 = normal; 6 = fixed defect; 7 = reversable defect<br>\n",
    "target: 1 - yes, 0 - no</p>"
   ]
  },
  {
   "cell_type": "code",
   "execution_count": 1,
   "metadata": {},
   "outputs": [],
   "source": [
    "import pandas as pd\n",
    "import numpy as np\n",
    "import matplotlib.pyplot as plt\n",
    "import seaborn as sns\n",
    "%matplotlib inline\n",
    "\n",
    "from sklearn.model_selection import train_test_split\n",
    "from sklearn.tree import DecisionTreeClassifier # Decision Tree\n",
    "from sklearn.ensemble import RandomForestClassifier\n",
    "from sklearn.ensemble import GradientBoostingClassifier\n",
    "#from sklearn.metrics import classification_report,confusion_matrix\n",
    "\n",
    "from IPython.display import Image \n",
    "from sklearn.tree import export_graphviz\n",
    "import pydot \n",
    "from six import StringIO"
   ]
  },
  {
   "cell_type": "code",
   "execution_count": 2,
   "metadata": {},
   "outputs": [],
   "source": [
    "data = pd.read_csv(\"heart.csv\")"
   ]
  },
  {
   "cell_type": "code",
   "execution_count": 3,
   "metadata": {},
   "outputs": [
    {
     "data": {
      "text/html": [
       "<div>\n",
       "<style scoped>\n",
       "    .dataframe tbody tr th:only-of-type {\n",
       "        vertical-align: middle;\n",
       "    }\n",
       "\n",
       "    .dataframe tbody tr th {\n",
       "        vertical-align: top;\n",
       "    }\n",
       "\n",
       "    .dataframe thead th {\n",
       "        text-align: right;\n",
       "    }\n",
       "</style>\n",
       "<table border=\"1\" class=\"dataframe\">\n",
       "  <thead>\n",
       "    <tr style=\"text-align: right;\">\n",
       "      <th></th>\n",
       "      <th>age</th>\n",
       "      <th>sex</th>\n",
       "      <th>cp</th>\n",
       "      <th>trestbps</th>\n",
       "      <th>chol</th>\n",
       "      <th>fbs</th>\n",
       "      <th>restecg</th>\n",
       "      <th>thalach</th>\n",
       "      <th>exang</th>\n",
       "      <th>oldpeak</th>\n",
       "      <th>slope</th>\n",
       "      <th>ca</th>\n",
       "      <th>thal</th>\n",
       "      <th>target</th>\n",
       "    </tr>\n",
       "  </thead>\n",
       "  <tbody>\n",
       "    <tr>\n",
       "      <th>0</th>\n",
       "      <td>63</td>\n",
       "      <td>1</td>\n",
       "      <td>3</td>\n",
       "      <td>145</td>\n",
       "      <td>233</td>\n",
       "      <td>1</td>\n",
       "      <td>0</td>\n",
       "      <td>150</td>\n",
       "      <td>0</td>\n",
       "      <td>2.3</td>\n",
       "      <td>0</td>\n",
       "      <td>0</td>\n",
       "      <td>1</td>\n",
       "      <td>1</td>\n",
       "    </tr>\n",
       "    <tr>\n",
       "      <th>1</th>\n",
       "      <td>37</td>\n",
       "      <td>1</td>\n",
       "      <td>2</td>\n",
       "      <td>130</td>\n",
       "      <td>250</td>\n",
       "      <td>0</td>\n",
       "      <td>1</td>\n",
       "      <td>187</td>\n",
       "      <td>0</td>\n",
       "      <td>3.5</td>\n",
       "      <td>0</td>\n",
       "      <td>0</td>\n",
       "      <td>2</td>\n",
       "      <td>1</td>\n",
       "    </tr>\n",
       "    <tr>\n",
       "      <th>2</th>\n",
       "      <td>41</td>\n",
       "      <td>0</td>\n",
       "      <td>1</td>\n",
       "      <td>130</td>\n",
       "      <td>204</td>\n",
       "      <td>0</td>\n",
       "      <td>0</td>\n",
       "      <td>172</td>\n",
       "      <td>0</td>\n",
       "      <td>1.4</td>\n",
       "      <td>2</td>\n",
       "      <td>0</td>\n",
       "      <td>2</td>\n",
       "      <td>1</td>\n",
       "    </tr>\n",
       "    <tr>\n",
       "      <th>3</th>\n",
       "      <td>56</td>\n",
       "      <td>1</td>\n",
       "      <td>1</td>\n",
       "      <td>120</td>\n",
       "      <td>236</td>\n",
       "      <td>0</td>\n",
       "      <td>1</td>\n",
       "      <td>178</td>\n",
       "      <td>0</td>\n",
       "      <td>0.8</td>\n",
       "      <td>2</td>\n",
       "      <td>0</td>\n",
       "      <td>2</td>\n",
       "      <td>1</td>\n",
       "    </tr>\n",
       "    <tr>\n",
       "      <th>4</th>\n",
       "      <td>57</td>\n",
       "      <td>0</td>\n",
       "      <td>0</td>\n",
       "      <td>120</td>\n",
       "      <td>354</td>\n",
       "      <td>0</td>\n",
       "      <td>1</td>\n",
       "      <td>163</td>\n",
       "      <td>1</td>\n",
       "      <td>0.6</td>\n",
       "      <td>2</td>\n",
       "      <td>0</td>\n",
       "      <td>2</td>\n",
       "      <td>1</td>\n",
       "    </tr>\n",
       "  </tbody>\n",
       "</table>\n",
       "</div>"
      ],
      "text/plain": [
       "   age  sex  cp  trestbps  chol  fbs  restecg  thalach  exang  oldpeak  slope  \\\n",
       "0   63    1   3       145   233    1        0      150      0      2.3      0   \n",
       "1   37    1   2       130   250    0        1      187      0      3.5      0   \n",
       "2   41    0   1       130   204    0        0      172      0      1.4      2   \n",
       "3   56    1   1       120   236    0        1      178      0      0.8      2   \n",
       "4   57    0   0       120   354    0        1      163      1      0.6      2   \n",
       "\n",
       "   ca  thal  target  \n",
       "0   0     1       1  \n",
       "1   0     2       1  \n",
       "2   0     2       1  \n",
       "3   0     2       1  \n",
       "4   0     2       1  "
      ]
     },
     "execution_count": 3,
     "metadata": {},
     "output_type": "execute_result"
    }
   ],
   "source": [
    "data.head()"
   ]
  },
  {
   "cell_type": "code",
   "execution_count": 4,
   "metadata": {},
   "outputs": [
    {
     "name": "stdout",
     "output_type": "stream",
     "text": [
      "<class 'pandas.core.frame.DataFrame'>\n",
      "RangeIndex: 303 entries, 0 to 302\n",
      "Data columns (total 14 columns):\n",
      " #   Column    Non-Null Count  Dtype  \n",
      "---  ------    --------------  -----  \n",
      " 0   age       303 non-null    int64  \n",
      " 1   sex       303 non-null    int64  \n",
      " 2   cp        303 non-null    int64  \n",
      " 3   trestbps  303 non-null    int64  \n",
      " 4   chol      303 non-null    int64  \n",
      " 5   fbs       303 non-null    int64  \n",
      " 6   restecg   303 non-null    int64  \n",
      " 7   thalach   303 non-null    int64  \n",
      " 8   exang     303 non-null    int64  \n",
      " 9   oldpeak   303 non-null    float64\n",
      " 10  slope     303 non-null    int64  \n",
      " 11  ca        303 non-null    int64  \n",
      " 12  thal      303 non-null    int64  \n",
      " 13  target    303 non-null    int64  \n",
      "dtypes: float64(1), int64(13)\n",
      "memory usage: 33.3 KB\n"
     ]
    }
   ],
   "source": [
    "data.info()"
   ]
  },
  {
   "cell_type": "markdown",
   "metadata": {},
   "source": [
    "<h3>Exploratory data analysis</h3>"
   ]
  },
  {
   "cell_type": "markdown",
   "metadata": {},
   "source": [
    "<p style=\"font-size:18px\">Table has 303 entries, no missing data and datatypes are also suitable for work</p>"
   ]
  },
  {
   "cell_type": "code",
   "execution_count": 5,
   "metadata": {},
   "outputs": [
    {
     "data": {
      "text/plain": [
       "Text(0.5, 1.0, 'Heart disease by age')"
      ]
     },
     "execution_count": 5,
     "metadata": {},
     "output_type": "execute_result"
    },
    {
     "data": {
      "image/png": "[encoded data removed]",
      "text/plain": [
       "<Figure size 720x360 with 1 Axes>"
      ]
     },
     "metadata": {
      "needs_background": "light"
     },
     "output_type": "display_data"
    }
   ],
   "source": [
    "plt.figure(figsize=(10,7))\n",
    "sns.set_style('darkgrid')\n",
    "data['age'].hist(bins=25, figsize = (10, 5)) \n",
    "plt.xlabel('Age', fontsize=15)\n",
    "plt.title(\"Heart disease by age\",fontsize=25)"
   ]
  },
  {
   "cell_type": "markdown",
   "metadata": {},
   "source": [
    "<p style=\"font-size:18px\">By the age of 40, cases of heart disease increase. Heart disease is particularly common in the age group between 40 and 50 and between mid-50 and around 68 years of age.</p>"
   ]
  },
  {
   "cell_type": "code",
   "execution_count": 6,
   "metadata": {},
   "outputs": [
    {
     "data": {
      "text/plain": [
       "Text(0.5, 1.0, 'Heart disease by age')"
      ]
     },
     "execution_count": 6,
     "metadata": {},
     "output_type": "execute_result"
    },
    {
     "data": {
      "image/png": "[encoded data removed]",
      "text/plain": [
       "<Figure size 720x504 with 1 Axes>"
      ]
     },
     "metadata": {},
     "output_type": "display_data"
    }
   ],
   "source": [
    "plt.figure(figsize=(10,7))\n",
    "data[data[\"target\"]==1][\"age\"].hist(alpha=0.5,color=\"blue\",\n",
    "                                              bins=30,label=\"Target=1\")\n",
    "data[data[\"target\"]==0][\"age\"].hist(alpha=0.5,color=\"red\",\n",
    "                                              bins=30,label=\"Target=0\")\n",
    "plt.legend()\n",
    "plt.xlabel(\"Age\", fontsize=15)\n",
    "plt.title(\"Heart disease by age\",fontsize=25)"
   ]
  },
  {
   "cell_type": "markdown",
   "metadata": {},
   "source": [
    "<p style=\"font-size:18px\">The graph clearly shows that heart disease is increasing significantly in middle age. On the other hand, at the age of 60 there are more cases where people show fewer signs of heart disease.</p>"
   ]
  },
  {
   "cell_type": "code",
   "execution_count": 7,
   "metadata": {},
   "outputs": [
    {
     "data": {
      "image/png": "[encoded data removed]",
      "text/plain": [
       "<Figure size 1080x504 with 1 Axes>"
      ]
     },
     "metadata": {},
     "output_type": "display_data"
    }
   ],
   "source": [
    "plt.figure(figsize=(15,7))\n",
    "sns.countplot(x='age',hue='sex',data=data,palette='Set1')\n",
    "plt.title(\"Heart disease by sex\",fontsize=25)\n",
    "plt.xlabel(\"Age\", fontsize=15)\n",
    "plt.ylabel(\"Count\", fontsize=15)\n",
    "plt.legend(['0 Female', '1 Male'],loc='center left', bbox_to_anchor=(1.0, 0.5))\n",
    "plt.show()"
   ]
  },
  {
   "cell_type": "markdown",
   "metadata": {},
   "source": [
    "<p style=\"font-size:18px\">The data shows heart problems for males twice as often as for females. We can see the numbers below.</p>"
   ]
  },
  {
   "cell_type": "code",
   "execution_count": 8,
   "metadata": {},
   "outputs": [
    {
     "data": {
      "text/plain": [
       "age         207\n",
       "sex         207\n",
       "cp          207\n",
       "trestbps    207\n",
       "chol        207\n",
       "fbs         207\n",
       "restecg     207\n",
       "thalach     207\n",
       "exang       207\n",
       "oldpeak     207\n",
       "slope       207\n",
       "ca          207\n",
       "thal        207\n",
       "target      207\n",
       "dtype: int64"
      ]
     },
     "execution_count": 8,
     "metadata": {},
     "output_type": "execute_result"
    }
   ],
   "source": [
    "data[data[\"sex\"]==1].count()"
   ]
  },
  {
   "cell_type": "code",
   "execution_count": 9,
   "metadata": {},
   "outputs": [
    {
     "data": {
      "text/plain": [
       "age         96\n",
       "sex         96\n",
       "cp          96\n",
       "trestbps    96\n",
       "chol        96\n",
       "fbs         96\n",
       "restecg     96\n",
       "thalach     96\n",
       "exang       96\n",
       "oldpeak     96\n",
       "slope       96\n",
       "ca          96\n",
       "thal        96\n",
       "target      96\n",
       "dtype: int64"
      ]
     },
     "execution_count": 9,
     "metadata": {},
     "output_type": "execute_result"
    }
   ],
   "source": [
    "data[data[\"sex\"]==0].count()"
   ]
  },
  {
   "cell_type": "markdown",
   "metadata": {},
   "source": [
    "<h3>Split Data into train and test data.</h3>"
   ]
  },
  {
   "cell_type": "code",
   "execution_count": 10,
   "metadata": {},
   "outputs": [],
   "source": [
    "X = data.drop([\"target\"], axis=1)\n",
    "y = data[\"target\"]\n",
    "X_train, X_test, y_train, y_test = train_test_split(X,y, stratify=y, test_size=0.30)"
   ]
  },
  {
   "cell_type": "markdown",
   "metadata": {},
   "source": [
    "<h3>Decision Trees algorithm</h3>"
   ]
  },
  {
   "cell_type": "code",
   "execution_count": 11,
   "metadata": {},
   "outputs": [],
   "source": [
    "dtree = DecisionTreeClassifier(max_depth=4, random_state=0)"
   ]
  },
  {
   "cell_type": "code",
   "execution_count": 12,
   "metadata": {},
   "outputs": [
    {
     "data": {
      "text/plain": [
       "DecisionTreeClassifier(max_depth=4, random_state=0)"
      ]
     },
     "execution_count": 12,
     "metadata": {},
     "output_type": "execute_result"
    }
   ],
   "source": [
    "dtree.fit(X_train, y_train)  # train Data"
   ]
  },
  {
   "cell_type": "code",
   "execution_count": 13,
   "metadata": {},
   "outputs": [],
   "source": [
    "predictions = dtree.predict(X_test) # Prediction"
   ]
  },
  {
   "cell_type": "code",
   "execution_count": 14,
   "metadata": {},
   "outputs": [
    {
     "name": "stdout",
     "output_type": "stream",
     "text": [
      "Accuracy on training set: 0.910\n",
      "Accuracy on test set: 0.769\n"
     ]
    }
   ],
   "source": [
    "print(\"Accuracy on training set: {:.3f}\".format(dtree.score(X_train, y_train)))\n",
    "print(\"Accuracy on test set: {:.3f}\".format(dtree.score(X_test, y_test)))"
   ]
  },
  {
   "cell_type": "markdown",
   "metadata": {},
   "source": [
    "<p style=\"font-size:18px\">Accuracy of the training set achieved 90%, Accuracy of the test set achieved 79%.</p>"
   ]
  },
  {
   "cell_type": "markdown",
   "metadata": {},
   "source": [
    "<h3>Analysis of the Decision Tree</h3>"
   ]
  },
  {
   "cell_type": "code",
   "execution_count": 15,
   "metadata": {},
   "outputs": [
    {
     "name": "stdout",
     "output_type": "stream",
     "text": [
      "Index(['age', 'sex', 'cp', 'trestbps', 'chol', 'fbs', 'restecg', 'thalach',\n",
      "       'exang', 'oldpeak', 'slope', 'ca', 'thal', 'target'],\n",
      "      dtype='object')\n"
     ]
    }
   ],
   "source": [
    "# Create a list of features\n",
    "print(data.columns)"
   ]
  },
  {
   "cell_type": "code",
   "execution_count": 16,
   "metadata": {},
   "outputs": [],
   "source": [
    "col_df = list(data.columns.values)"
   ]
  },
  {
   "cell_type": "code",
   "execution_count": 17,
   "metadata": {},
   "outputs": [
    {
     "data": {
      "text/plain": [
       "['age',\n",
       " 'sex',\n",
       " 'cp',\n",
       " 'trestbps',\n",
       " 'chol',\n",
       " 'fbs',\n",
       " 'restecg',\n",
       " 'thalach',\n",
       " 'exang',\n",
       " 'oldpeak',\n",
       " 'slope',\n",
       " 'ca',\n",
       " 'thal',\n",
       " 'target']"
      ]
     },
     "execution_count": 17,
     "metadata": {},
     "output_type": "execute_result"
    }
   ],
   "source": [
    "col_df"
   ]
  },
  {
   "cell_type": "code",
   "execution_count": 18,
   "metadata": {},
   "outputs": [],
   "source": [
    "del col_df[13]  # lösche spalte 13 --> das ist spalte \"target\""
   ]
  },
  {
   "cell_type": "code",
   "execution_count": 19,
   "metadata": {},
   "outputs": [],
   "source": [
    "from sklearn.tree import export_graphviz"
   ]
  },
  {
   "cell_type": "code",
   "execution_count": 20,
   "metadata": {},
   "outputs": [],
   "source": [
    "export_graphviz(dtree, out_file=\"tree.dot\", class_names=[\"1\", \"0\"],\n",
    "                feature_names=col_df, # das ist die Liste von features \n",
    "                impurity=False, filled=True)"
   ]
  },
  {
   "cell_type": "code",
   "execution_count": 21,
   "metadata": {},
   "outputs": [
    {
     "data": {
      "image/svg+xml": [
       "<?xml version=\"1.0\" encoding=\"UTF-8\" standalone=\"no\"?>\r\n",
       "<!DOCTYPE svg PUBLIC \"-//W3C//DTD SVG 1.1//EN\"\r\n",
       " \"http://www.w3.org/Graphics/SVG/1.1/DTD/svg11.dtd\">\r\n",
       "<!-- Generated by graphviz version 2.38.0 (20140413.2041)\r\n",
       " -->\r\n",
       "<!-- Title: Tree Pages: 1 -->\r\n",
       "<svg width=\"1556pt\" height=\"477pt\"\r\n",
       " viewBox=\"0.00 0.00 1556.00 477.00\" xmlns=\"http://www.w3.org/2000/svg\" xmlns:xlink=\"http://www.w3.org/1999/xlink\">\r\n",
       "<g id=\"graph0\" class=\"graph\" transform=\"scale(1 1) rotate(0) translate(4 473)\">\r\n",
       "<title>Tree</title>\r\n",
       "<polygon fill=\"white\" stroke=\"none\" points=\"-4,4 -4,-473 1552,-473 1552,4 -4,4\"/>\r\n",
       "<!-- 0 -->\r\n",
       "<g id=\"node1\" class=\"node\"><title>0</title>\r\n",
       "<polygon fill=\"#e0f0fb\" stroke=\"black\" points=\"806,-469 695,-469 695,-401 806,-401 806,-469\"/>\r\n",
       "<text text-anchor=\"middle\" x=\"750.5\" y=\"-453.8\" font-family=\"Times New Roman,serif\" font-size=\"14.00\">thal &lt;= 2.5</text>\r\n",
       "<text text-anchor=\"middle\" x=\"750.5\" y=\"-438.8\" font-family=\"Times New Roman,serif\" font-size=\"14.00\">samples = 212</text>\r\n",
       "<text text-anchor=\"middle\" x=\"750.5\" y=\"-423.8\" font-family=\"Times New Roman,serif\" font-size=\"14.00\">value = [97, 115]</text>\r\n",
       "<text text-anchor=\"middle\" x=\"750.5\" y=\"-408.8\" font-family=\"Times New Roman,serif\" font-size=\"14.00\">class = 0</text>\r\n",
       "</g>\r\n",
       "<!-- 1 -->\r\n",
       "<g id=\"node2\" class=\"node\"><title>1</title>\r\n",
       "<polygon fill=\"#79bded\" stroke=\"black\" points=\"710.5,-365 606.5,-365 606.5,-297 710.5,-297 710.5,-365\"/>\r\n",
       "<text text-anchor=\"middle\" x=\"658.5\" y=\"-349.8\" font-family=\"Times New Roman,serif\" font-size=\"14.00\">ca &lt;= 0.5</text>\r\n",
       "<text text-anchor=\"middle\" x=\"658.5\" y=\"-334.8\" font-family=\"Times New Roman,serif\" font-size=\"14.00\">samples = 131</text>\r\n",
       "<text text-anchor=\"middle\" x=\"658.5\" y=\"-319.8\" font-family=\"Times New Roman,serif\" font-size=\"14.00\">value = [32, 99]</text>\r\n",
       "<text text-anchor=\"middle\" x=\"658.5\" y=\"-304.8\" font-family=\"Times New Roman,serif\" font-size=\"14.00\">class = 0</text>\r\n",
       "</g>\r\n",
       "<!-- 0&#45;&gt;1 -->\r\n",
       "<g id=\"edge1\" class=\"edge\"><title>0&#45;&gt;1</title>\r\n",
       "<path fill=\"none\" stroke=\"black\" d=\"M720.63,-400.884C712.596,-391.976 703.81,-382.235 695.441,-372.957\"/>\r\n",
       "<polygon fill=\"black\" stroke=\"black\" points=\"697.831,-370.381 688.535,-365.299 692.633,-375.069 697.831,-370.381\"/>\r\n",
       "<text text-anchor=\"middle\" x=\"687.248\" y=\"-386.566\" font-family=\"Times New Roman,serif\" font-size=\"14.00\">True</text>\r\n",
       "</g>\r\n",
       "<!-- 16 -->\r\n",
       "<g id=\"node17\" class=\"node\"><title>16</title>\r\n",
       "<polygon fill=\"#eba06a\" stroke=\"black\" points=\"894.5,-365 790.5,-365 790.5,-297 894.5,-297 894.5,-365\"/>\r\n",
       "<text text-anchor=\"middle\" x=\"842.5\" y=\"-349.8\" font-family=\"Times New Roman,serif\" font-size=\"14.00\">cp &lt;= 0.5</text>\r\n",
       "<text text-anchor=\"middle\" x=\"842.5\" y=\"-334.8\" font-family=\"Times New Roman,serif\" font-size=\"14.00\">samples = 81</text>\r\n",
       "<text text-anchor=\"middle\" x=\"842.5\" y=\"-319.8\" font-family=\"Times New Roman,serif\" font-size=\"14.00\">value = [65, 16]</text>\r\n",
       "<text text-anchor=\"middle\" x=\"842.5\" y=\"-304.8\" font-family=\"Times New Roman,serif\" font-size=\"14.00\">class = 1</text>\r\n",
       "</g>\r\n",
       "<!-- 0&#45;&gt;16 -->\r\n",
       "<g id=\"edge16\" class=\"edge\"><title>0&#45;&gt;16</title>\r\n",
       "<path fill=\"none\" stroke=\"black\" d=\"M780.37,-400.884C788.404,-391.976 797.19,-382.235 805.559,-372.957\"/>\r\n",
       "<polygon fill=\"black\" stroke=\"black\" points=\"808.367,-375.069 812.465,-365.299 803.169,-370.381 808.367,-375.069\"/>\r\n",
       "<text text-anchor=\"middle\" x=\"813.752\" y=\"-386.566\" font-family=\"Times New Roman,serif\" font-size=\"14.00\">False</text>\r\n",
       "</g>\r\n",
       "<!-- 2 -->\r\n",
       "<g id=\"node3\" class=\"node\"><title>2</title>\r\n",
       "<polygon fill=\"#56ace9\" stroke=\"black\" points=\"380.5,-261 276.5,-261 276.5,-193 380.5,-193 380.5,-261\"/>\r\n",
       "<text text-anchor=\"middle\" x=\"328.5\" y=\"-245.8\" font-family=\"Times New Roman,serif\" font-size=\"14.00\">oldpeak &lt;= 1.7</text>\r\n",
       "<text text-anchor=\"middle\" x=\"328.5\" y=\"-230.8\" font-family=\"Times New Roman,serif\" font-size=\"14.00\">samples = 93</text>\r\n",
       "<text text-anchor=\"middle\" x=\"328.5\" y=\"-215.8\" font-family=\"Times New Roman,serif\" font-size=\"14.00\">value = [12, 81]</text>\r\n",
       "<text text-anchor=\"middle\" x=\"328.5\" y=\"-200.8\" font-family=\"Times New Roman,serif\" font-size=\"14.00\">class = 0</text>\r\n",
       "</g>\r\n",
       "<!-- 1&#45;&gt;2 -->\r\n",
       "<g id=\"edge2\" class=\"edge\"><title>1&#45;&gt;2</title>\r\n",
       "<path fill=\"none\" stroke=\"black\" d=\"M606.211,-313.838C547.557,-295.708 452.504,-266.329 390.245,-247.085\"/>\r\n",
       "<polygon fill=\"black\" stroke=\"black\" points=\"391.132,-243.696 380.545,-244.087 389.065,-250.384 391.132,-243.696\"/>\r\n",
       "</g>\r\n",
       "<!-- 9 -->\r\n",
       "<g id=\"node10\" class=\"node\"><title>9</title>\r\n",
       "<polygon fill=\"#fcf2eb\" stroke=\"black\" points=\"710.5,-261 606.5,-261 606.5,-193 710.5,-193 710.5,-261\"/>\r\n",
       "<text text-anchor=\"middle\" x=\"658.5\" y=\"-245.8\" font-family=\"Times New Roman,serif\" font-size=\"14.00\">cp &lt;= 0.5</text>\r\n",
       "<text text-anchor=\"middle\" x=\"658.5\" y=\"-230.8\" font-family=\"Times New Roman,serif\" font-size=\"14.00\">samples = 38</text>\r\n",
       "<text text-anchor=\"middle\" x=\"658.5\" y=\"-215.8\" font-family=\"Times New Roman,serif\" font-size=\"14.00\">value = [20, 18]</text>\r\n",
       "<text text-anchor=\"middle\" x=\"658.5\" y=\"-200.8\" font-family=\"Times New Roman,serif\" font-size=\"14.00\">class = 1</text>\r\n",
       "</g>\r\n",
       "<!-- 1&#45;&gt;9 -->\r\n",
       "<g id=\"edge9\" class=\"edge\"><title>1&#45;&gt;9</title>\r\n",
       "<path fill=\"none\" stroke=\"black\" d=\"M658.5,-296.884C658.5,-288.778 658.5,-279.982 658.5,-271.472\"/>\r\n",
       "<polygon fill=\"black\" stroke=\"black\" points=\"662,-271.299 658.5,-261.299 655,-271.299 662,-271.299\"/>\r\n",
       "</g>\r\n",
       "<!-- 3 -->\r\n",
       "<g id=\"node4\" class=\"node\"><title>3</title>\r\n",
       "<polygon fill=\"#4ba6e7\" stroke=\"black\" points=\"210.5,-157 106.5,-157 106.5,-89 210.5,-89 210.5,-157\"/>\r\n",
       "<text text-anchor=\"middle\" x=\"158.5\" y=\"-141.8\" font-family=\"Times New Roman,serif\" font-size=\"14.00\">thalach &lt;= 93.0</text>\r\n",
       "<text text-anchor=\"middle\" x=\"158.5\" y=\"-126.8\" font-family=\"Times New Roman,serif\" font-size=\"14.00\">samples = 83</text>\r\n",
       "<text text-anchor=\"middle\" x=\"158.5\" y=\"-111.8\" font-family=\"Times New Roman,serif\" font-size=\"14.00\">value = [7, 76]</text>\r\n",
       "<text text-anchor=\"middle\" x=\"158.5\" y=\"-96.8\" font-family=\"Times New Roman,serif\" font-size=\"14.00\">class = 0</text>\r\n",
       "</g>\r\n",
       "<!-- 2&#45;&gt;3 -->\r\n",
       "<g id=\"edge3\" class=\"edge\"><title>2&#45;&gt;3</title>\r\n",
       "<path fill=\"none\" stroke=\"black\" d=\"M276.107,-194.564C258.168,-183.801 237.945,-171.667 219.393,-160.536\"/>\r\n",
       "<polygon fill=\"black\" stroke=\"black\" points=\"221.095,-157.476 210.72,-155.332 217.494,-163.478 221.095,-157.476\"/>\r\n",
       "</g>\r\n",
       "<!-- 6 -->\r\n",
       "<g id=\"node7\" class=\"node\"><title>6</title>\r\n",
       "<polygon fill=\"#ffffff\" stroke=\"black\" points=\"376,-157 281,-157 281,-89 376,-89 376,-157\"/>\r\n",
       "<text text-anchor=\"middle\" x=\"328.5\" y=\"-141.8\" font-family=\"Times New Roman,serif\" font-size=\"14.00\">chol &lt;= 267.0</text>\r\n",
       "<text text-anchor=\"middle\" x=\"328.5\" y=\"-126.8\" font-family=\"Times New Roman,serif\" font-size=\"14.00\">samples = 10</text>\r\n",
       "<text text-anchor=\"middle\" x=\"328.5\" y=\"-111.8\" font-family=\"Times New Roman,serif\" font-size=\"14.00\">value = [5, 5]</text>\r\n",
       "<text text-anchor=\"middle\" x=\"328.5\" y=\"-96.8\" font-family=\"Times New Roman,serif\" font-size=\"14.00\">class = 1</text>\r\n",
       "</g>\r\n",
       "<!-- 2&#45;&gt;6 -->\r\n",
       "<g id=\"edge6\" class=\"edge\"><title>2&#45;&gt;6</title>\r\n",
       "<path fill=\"none\" stroke=\"black\" d=\"M328.5,-192.884C328.5,-184.778 328.5,-175.982 328.5,-167.472\"/>\r\n",
       "<polygon fill=\"black\" stroke=\"black\" points=\"332,-167.299 328.5,-157.299 325,-167.299 332,-167.299\"/>\r\n",
       "</g>\r\n",
       "<!-- 4 -->\r\n",
       "<g id=\"node5\" class=\"node\"><title>4</title>\r\n",
       "<polygon fill=\"#e58139\" stroke=\"black\" points=\"91,-53 0,-53 0,-0 91,-0 91,-53\"/>\r\n",
       "<text text-anchor=\"middle\" x=\"45.5\" y=\"-37.8\" font-family=\"Times New Roman,serif\" font-size=\"14.00\">samples = 1</text>\r\n",
       "<text text-anchor=\"middle\" x=\"45.5\" y=\"-22.8\" font-family=\"Times New Roman,serif\" font-size=\"14.00\">value = [1, 0]</text>\r\n",
       "<text text-anchor=\"middle\" x=\"45.5\" y=\"-7.8\" font-family=\"Times New Roman,serif\" font-size=\"14.00\">class = 1</text>\r\n",
       "</g>\r\n",
       "<!-- 3&#45;&gt;4 -->\r\n",
       "<g id=\"edge4\" class=\"edge\"><title>3&#45;&gt;4</title>\r\n",
       "<path fill=\"none\" stroke=\"black\" d=\"M118.978,-88.9485C107.711,-79.526 95.451,-69.2731 84.2316,-59.8906\"/>\r\n",
       "<polygon fill=\"black\" stroke=\"black\" points=\"86.1915,-56.967 76.2751,-53.2367 81.7009,-62.3368 86.1915,-56.967\"/>\r\n",
       "</g>\r\n",
       "<!-- 5 -->\r\n",
       "<g id=\"node6\" class=\"node\"><title>5</title>\r\n",
       "<polygon fill=\"#49a5e7\" stroke=\"black\" points=\"207.5,-53 109.5,-53 109.5,-0 207.5,-0 207.5,-53\"/>\r\n",
       "<text text-anchor=\"middle\" x=\"158.5\" y=\"-37.8\" font-family=\"Times New Roman,serif\" font-size=\"14.00\">samples = 82</text>\r\n",
       "<text text-anchor=\"middle\" x=\"158.5\" y=\"-22.8\" font-family=\"Times New Roman,serif\" font-size=\"14.00\">value = [6, 76]</text>\r\n",
       "<text text-anchor=\"middle\" x=\"158.5\" y=\"-7.8\" font-family=\"Times New Roman,serif\" font-size=\"14.00\">class = 0</text>\r\n",
       "</g>\r\n",
       "<!-- 3&#45;&gt;5 -->\r\n",
       "<g id=\"edge5\" class=\"edge\"><title>3&#45;&gt;5</title>\r\n",
       "<path fill=\"none\" stroke=\"black\" d=\"M158.5,-88.9485C158.5,-80.7153 158.5,-71.848 158.5,-63.4814\"/>\r\n",
       "<polygon fill=\"black\" stroke=\"black\" points=\"162,-63.2367 158.5,-53.2367 155,-63.2367 162,-63.2367\"/>\r\n",
       "</g>\r\n",
       "<!-- 7 -->\r\n",
       "<g id=\"node8\" class=\"node\"><title>7</title>\r\n",
       "<polygon fill=\"#88c4ef\" stroke=\"black\" points=\"317,-53 226,-53 226,-0 317,-0 317,-53\"/>\r\n",
       "<text text-anchor=\"middle\" x=\"271.5\" y=\"-37.8\" font-family=\"Times New Roman,serif\" font-size=\"14.00\">samples = 7</text>\r\n",
       "<text text-anchor=\"middle\" x=\"271.5\" y=\"-22.8\" font-family=\"Times New Roman,serif\" font-size=\"14.00\">value = [2, 5]</text>\r\n",
       "<text text-anchor=\"middle\" x=\"271.5\" y=\"-7.8\" font-family=\"Times New Roman,serif\" font-size=\"14.00\">class = 0</text>\r\n",
       "</g>\r\n",
       "<!-- 6&#45;&gt;7 -->\r\n",
       "<g id=\"edge7\" class=\"edge\"><title>6&#45;&gt;7</title>\r\n",
       "<path fill=\"none\" stroke=\"black\" d=\"M308.564,-88.9485C303.267,-80.1664 297.535,-70.6629 292.198,-61.815\"/>\r\n",
       "<polygon fill=\"black\" stroke=\"black\" points=\"295.186,-59.9919 287.024,-53.2367 289.192,-63.6074 295.186,-59.9919\"/>\r\n",
       "</g>\r\n",
       "<!-- 8 -->\r\n",
       "<g id=\"node9\" class=\"node\"><title>8</title>\r\n",
       "<polygon fill=\"#e58139\" stroke=\"black\" points=\"426,-53 335,-53 335,-0 426,-0 426,-53\"/>\r\n",
       "<text text-anchor=\"middle\" x=\"380.5\" y=\"-37.8\" font-family=\"Times New Roman,serif\" font-size=\"14.00\">samples = 3</text>\r\n",
       "<text text-anchor=\"middle\" x=\"380.5\" y=\"-22.8\" font-family=\"Times New Roman,serif\" font-size=\"14.00\">value = [3, 0]</text>\r\n",
       "<text text-anchor=\"middle\" x=\"380.5\" y=\"-7.8\" font-family=\"Times New Roman,serif\" font-size=\"14.00\">class = 1</text>\r\n",
       "</g>\r\n",
       "<!-- 6&#45;&gt;8 -->\r\n",
       "<g id=\"edge8\" class=\"edge\"><title>6&#45;&gt;8</title>\r\n",
       "<path fill=\"none\" stroke=\"black\" d=\"M346.687,-88.9485C351.469,-80.2579 356.64,-70.8608 361.465,-62.0917\"/>\r\n",
       "<polygon fill=\"black\" stroke=\"black\" points=\"364.583,-63.6853 366.338,-53.2367 358.451,-60.3105 364.583,-63.6853\"/>\r\n",
       "</g>\r\n",
       "<!-- 10 -->\r\n",
       "<g id=\"node11\" class=\"node\"><title>10</title>\r\n",
       "<polygon fill=\"#e78b48\" stroke=\"black\" points=\"651.5,-157 553.5,-157 553.5,-89 651.5,-89 651.5,-157\"/>\r\n",
       "<text text-anchor=\"middle\" x=\"602.5\" y=\"-141.8\" font-family=\"Times New Roman,serif\" font-size=\"14.00\">chol &lt;= 301.0</text>\r\n",
       "<text text-anchor=\"middle\" x=\"602.5\" y=\"-126.8\" font-family=\"Times New Roman,serif\" font-size=\"14.00\">samples = 14</text>\r\n",
       "<text text-anchor=\"middle\" x=\"602.5\" y=\"-111.8\" font-family=\"Times New Roman,serif\" font-size=\"14.00\">value = [13, 1]</text>\r\n",
       "<text text-anchor=\"middle\" x=\"602.5\" y=\"-96.8\" font-family=\"Times New Roman,serif\" font-size=\"14.00\">class = 1</text>\r\n",
       "</g>\r\n",
       "<!-- 9&#45;&gt;10 -->\r\n",
       "<g id=\"edge10\" class=\"edge\"><title>9&#45;&gt;10</title>\r\n",
       "<path fill=\"none\" stroke=\"black\" d=\"M640.318,-192.884C635.624,-184.332 630.507,-175.013 625.598,-166.072\"/>\r\n",
       "<polygon fill=\"black\" stroke=\"black\" points=\"628.663,-164.381 620.782,-157.299 622.527,-167.75 628.663,-164.381\"/>\r\n",
       "</g>\r\n",
       "<!-- 13 -->\r\n",
       "<g id=\"node14\" class=\"node\"><title>13</title>\r\n",
       "<polygon fill=\"#8bc5f0\" stroke=\"black\" points=\"767.5,-157 669.5,-157 669.5,-89 767.5,-89 767.5,-157\"/>\r\n",
       "<text text-anchor=\"middle\" x=\"718.5\" y=\"-141.8\" font-family=\"Times New Roman,serif\" font-size=\"14.00\">slope &lt;= 1.5</text>\r\n",
       "<text text-anchor=\"middle\" x=\"718.5\" y=\"-126.8\" font-family=\"Times New Roman,serif\" font-size=\"14.00\">samples = 24</text>\r\n",
       "<text text-anchor=\"middle\" x=\"718.5\" y=\"-111.8\" font-family=\"Times New Roman,serif\" font-size=\"14.00\">value = [7, 17]</text>\r\n",
       "<text text-anchor=\"middle\" x=\"718.5\" y=\"-96.8\" font-family=\"Times New Roman,serif\" font-size=\"14.00\">class = 0</text>\r\n",
       "</g>\r\n",
       "<!-- 9&#45;&gt;13 -->\r\n",
       "<g id=\"edge13\" class=\"edge\"><title>9&#45;&gt;13</title>\r\n",
       "<path fill=\"none\" stroke=\"black\" d=\"M677.98,-192.884C683.01,-184.332 688.492,-175.013 693.752,-166.072\"/>\r\n",
       "<polygon fill=\"black\" stroke=\"black\" points=\"696.859,-167.693 698.912,-157.299 690.825,-164.144 696.859,-167.693\"/>\r\n",
       "</g>\r\n",
       "<!-- 11 -->\r\n",
       "<g id=\"node12\" class=\"node\"><title>11</title>\r\n",
       "<polygon fill=\"#e58139\" stroke=\"black\" points=\"542.5,-53 444.5,-53 444.5,-0 542.5,-0 542.5,-53\"/>\r\n",
       "<text text-anchor=\"middle\" x=\"493.5\" y=\"-37.8\" font-family=\"Times New Roman,serif\" font-size=\"14.00\">samples = 13</text>\r\n",
       "<text text-anchor=\"middle\" x=\"493.5\" y=\"-22.8\" font-family=\"Times New Roman,serif\" font-size=\"14.00\">value = [13, 0]</text>\r\n",
       "<text text-anchor=\"middle\" x=\"493.5\" y=\"-7.8\" font-family=\"Times New Roman,serif\" font-size=\"14.00\">class = 1</text>\r\n",
       "</g>\r\n",
       "<!-- 10&#45;&gt;11 -->\r\n",
       "<g id=\"edge11\" class=\"edge\"><title>10&#45;&gt;11</title>\r\n",
       "<path fill=\"none\" stroke=\"black\" d=\"M564.377,-88.9485C553.509,-79.526 541.683,-69.2731 530.861,-59.8906\"/>\r\n",
       "<polygon fill=\"black\" stroke=\"black\" points=\"533.034,-57.1428 523.186,-53.2367 528.449,-62.4319 533.034,-57.1428\"/>\r\n",
       "</g>\r\n",
       "<!-- 12 -->\r\n",
       "<g id=\"node13\" class=\"node\"><title>12</title>\r\n",
       "<polygon fill=\"#399de5\" stroke=\"black\" points=\"652,-53 561,-53 561,-0 652,-0 652,-53\"/>\r\n",
       "<text text-anchor=\"middle\" x=\"606.5\" y=\"-37.8\" font-family=\"Times New Roman,serif\" font-size=\"14.00\">samples = 1</text>\r\n",
       "<text text-anchor=\"middle\" x=\"606.5\" y=\"-22.8\" font-family=\"Times New Roman,serif\" font-size=\"14.00\">value = [0, 1]</text>\r\n",
       "<text text-anchor=\"middle\" x=\"606.5\" y=\"-7.8\" font-family=\"Times New Roman,serif\" font-size=\"14.00\">class = 0</text>\r\n",
       "</g>\r\n",
       "<!-- 10&#45;&gt;12 -->\r\n",
       "<g id=\"edge12\" class=\"edge\"><title>10&#45;&gt;12</title>\r\n",
       "<path fill=\"none\" stroke=\"black\" d=\"M603.899,-88.9485C604.248,-80.7153 604.623,-71.848 604.977,-63.4814\"/>\r\n",
       "<polygon fill=\"black\" stroke=\"black\" points=\"608.484,-63.3758 605.411,-53.2367 601.491,-63.0797 608.484,-63.3758\"/>\r\n",
       "</g>\r\n",
       "<!-- 14 -->\r\n",
       "<g id=\"node15\" class=\"node\"><title>14</title>\r\n",
       "<polygon fill=\"#f2c09c\" stroke=\"black\" points=\"761,-53 670,-53 670,-0 761,-0 761,-53\"/>\r\n",
       "<text text-anchor=\"middle\" x=\"715.5\" y=\"-37.8\" font-family=\"Times New Roman,serif\" font-size=\"14.00\">samples = 6</text>\r\n",
       "<text text-anchor=\"middle\" x=\"715.5\" y=\"-22.8\" font-family=\"Times New Roman,serif\" font-size=\"14.00\">value = [4, 2]</text>\r\n",
       "<text text-anchor=\"middle\" x=\"715.5\" y=\"-7.8\" font-family=\"Times New Roman,serif\" font-size=\"14.00\">class = 1</text>\r\n",
       "</g>\r\n",
       "<!-- 13&#45;&gt;14 -->\r\n",
       "<g id=\"edge14\" class=\"edge\"><title>13&#45;&gt;14</title>\r\n",
       "<path fill=\"none\" stroke=\"black\" d=\"M717.451,-88.9485C717.189,-80.7153 716.908,-71.848 716.642,-63.4814\"/>\r\n",
       "<polygon fill=\"black\" stroke=\"black\" points=\"720.133,-63.1206 716.317,-53.2367 713.136,-63.3428 720.133,-63.1206\"/>\r\n",
       "</g>\r\n",
       "<!-- 15 -->\r\n",
       "<g id=\"node16\" class=\"node\"><title>15</title>\r\n",
       "<polygon fill=\"#61b1ea\" stroke=\"black\" points=\"877.5,-53 779.5,-53 779.5,-0 877.5,-0 877.5,-53\"/>\r\n",
       "<text text-anchor=\"middle\" x=\"828.5\" y=\"-37.8\" font-family=\"Times New Roman,serif\" font-size=\"14.00\">samples = 18</text>\r\n",
       "<text text-anchor=\"middle\" x=\"828.5\" y=\"-22.8\" font-family=\"Times New Roman,serif\" font-size=\"14.00\">value = [3, 15]</text>\r\n",
       "<text text-anchor=\"middle\" x=\"828.5\" y=\"-7.8\" font-family=\"Times New Roman,serif\" font-size=\"14.00\">class = 0</text>\r\n",
       "</g>\r\n",
       "<!-- 13&#45;&gt;15 -->\r\n",
       "<g id=\"edge15\" class=\"edge\"><title>13&#45;&gt;15</title>\r\n",
       "<path fill=\"none\" stroke=\"black\" d=\"M756.973,-88.9485C767.941,-79.526 779.875,-69.2731 790.797,-59.8906\"/>\r\n",
       "<polygon fill=\"black\" stroke=\"black\" points=\"793.237,-62.408 798.542,-53.2367 788.676,-57.0983 793.237,-62.408\"/>\r\n",
       "</g>\r\n",
       "<!-- 17 -->\r\n",
       "<g id=\"node18\" class=\"node\"><title>17</title>\r\n",
       "<polygon fill=\"#e68844\" stroke=\"black\" points=\"900.5,-261 784.5,-261 784.5,-193 900.5,-193 900.5,-261\"/>\r\n",
       "<text text-anchor=\"middle\" x=\"842.5\" y=\"-245.8\" font-family=\"Times New Roman,serif\" font-size=\"14.00\">trestbps &lt;= 109.0</text>\r\n",
       "<text text-anchor=\"middle\" x=\"842.5\" y=\"-230.8\" font-family=\"Times New Roman,serif\" font-size=\"14.00\">samples = 56</text>\r\n",
       "<text text-anchor=\"middle\" x=\"842.5\" y=\"-215.8\" font-family=\"Times New Roman,serif\" font-size=\"14.00\">value = [53, 3]</text>\r\n",
       "<text text-anchor=\"middle\" x=\"842.5\" y=\"-200.8\" font-family=\"Times New Roman,serif\" font-size=\"14.00\">class = 1</text>\r\n",
       "</g>\r\n",
       "<!-- 16&#45;&gt;17 -->\r\n",
       "<g id=\"edge17\" class=\"edge\"><title>16&#45;&gt;17</title>\r\n",
       "<path fill=\"none\" stroke=\"black\" d=\"M842.5,-296.884C842.5,-288.778 842.5,-279.982 842.5,-271.472\"/>\r\n",
       "<polygon fill=\"black\" stroke=\"black\" points=\"846,-271.299 842.5,-261.299 839,-271.299 846,-271.299\"/>\r\n",
       "</g>\r\n",
       "<!-- 22 -->\r\n",
       "<g id=\"node23\" class=\"node\"><title>22</title>\r\n",
       "<polygon fill=\"#f0f7fd\" stroke=\"black\" points=\"1271.5,-261 1167.5,-261 1167.5,-193 1271.5,-193 1271.5,-261\"/>\r\n",
       "<text text-anchor=\"middle\" x=\"1219.5\" y=\"-245.8\" font-family=\"Times New Roman,serif\" font-size=\"14.00\">ca &lt;= 0.5</text>\r\n",
       "<text text-anchor=\"middle\" x=\"1219.5\" y=\"-230.8\" font-family=\"Times New Roman,serif\" font-size=\"14.00\">samples = 25</text>\r\n",
       "<text text-anchor=\"middle\" x=\"1219.5\" y=\"-215.8\" font-family=\"Times New Roman,serif\" font-size=\"14.00\">value = [12, 13]</text>\r\n",
       "<text text-anchor=\"middle\" x=\"1219.5\" y=\"-200.8\" font-family=\"Times New Roman,serif\" font-size=\"14.00\">class = 0</text>\r\n",
       "</g>\r\n",
       "<!-- 16&#45;&gt;22 -->\r\n",
       "<g id=\"edge22\" class=\"edge\"><title>16&#45;&gt;22</title>\r\n",
       "<path fill=\"none\" stroke=\"black\" d=\"M894.524,-315.924C963.204,-297.343 1083.98,-264.666 1157.37,-244.809\"/>\r\n",
       "<polygon fill=\"black\" stroke=\"black\" points=\"1158.67,-248.085 1167.4,-242.095 1156.84,-241.328 1158.67,-248.085\"/>\r\n",
       "</g>\r\n",
       "<!-- 18 -->\r\n",
       "<g id=\"node19\" class=\"node\"><title>18</title>\r\n",
       "<polygon fill=\"#399de5\" stroke=\"black\" points=\"884,-149.5 793,-149.5 793,-96.5 884,-96.5 884,-149.5\"/>\r\n",
       "<text text-anchor=\"middle\" x=\"838.5\" y=\"-134.3\" font-family=\"Times New Roman,serif\" font-size=\"14.00\">samples = 1</text>\r\n",
       "<text text-anchor=\"middle\" x=\"838.5\" y=\"-119.3\" font-family=\"Times New Roman,serif\" font-size=\"14.00\">value = [0, 1]</text>\r\n",
       "<text text-anchor=\"middle\" x=\"838.5\" y=\"-104.3\" font-family=\"Times New Roman,serif\" font-size=\"14.00\">class = 0</text>\r\n",
       "</g>\r\n",
       "<!-- 17&#45;&gt;18 -->\r\n",
       "<g id=\"edge18\" class=\"edge\"><title>17&#45;&gt;18</title>\r\n",
       "<path fill=\"none\" stroke=\"black\" d=\"M841.201,-192.884C840.783,-182.216 840.318,-170.352 839.893,-159.519\"/>\r\n",
       "<polygon fill=\"black\" stroke=\"black\" points=\"843.39,-159.375 839.501,-149.52 836.395,-159.649 843.39,-159.375\"/>\r\n",
       "</g>\r\n",
       "<!-- 19 -->\r\n",
       "<g id=\"node20\" class=\"node\"><title>19</title>\r\n",
       "<polygon fill=\"#e68640\" stroke=\"black\" points=\"1004.5,-157 902.5,-157 902.5,-89 1004.5,-89 1004.5,-157\"/>\r\n",
       "<text text-anchor=\"middle\" x=\"953.5\" y=\"-141.8\" font-family=\"Times New Roman,serif\" font-size=\"14.00\">oldpeak &lt;= 0.1</text>\r\n",
       "<text text-anchor=\"middle\" x=\"953.5\" y=\"-126.8\" font-family=\"Times New Roman,serif\" font-size=\"14.00\">samples = 55</text>\r\n",
       "<text text-anchor=\"middle\" x=\"953.5\" y=\"-111.8\" font-family=\"Times New Roman,serif\" font-size=\"14.00\">value = [53, 2]</text>\r\n",
       "<text text-anchor=\"middle\" x=\"953.5\" y=\"-96.8\" font-family=\"Times New Roman,serif\" font-size=\"14.00\">class = 1</text>\r\n",
       "</g>\r\n",
       "<!-- 17&#45;&gt;19 -->\r\n",
       "<g id=\"edge19\" class=\"edge\"><title>17&#45;&gt;19</title>\r\n",
       "<path fill=\"none\" stroke=\"black\" d=\"M878.539,-192.884C888.523,-183.709 899.469,-173.65 909.837,-164.123\"/>\r\n",
       "<polygon fill=\"black\" stroke=\"black\" points=\"912.267,-166.643 917.262,-157.299 907.531,-161.488 912.267,-166.643\"/>\r\n",
       "</g>\r\n",
       "<!-- 20 -->\r\n",
       "<g id=\"node21\" class=\"node\"><title>20</title>\r\n",
       "<polygon fill=\"#eca572\" stroke=\"black\" points=\"987,-53 896,-53 896,-0 987,-0 987,-53\"/>\r\n",
       "<text text-anchor=\"middle\" x=\"941.5\" y=\"-37.8\" font-family=\"Times New Roman,serif\" font-size=\"14.00\">samples = 9</text>\r\n",
       "<text text-anchor=\"middle\" x=\"941.5\" y=\"-22.8\" font-family=\"Times New Roman,serif\" font-size=\"14.00\">value = [7, 2]</text>\r\n",
       "<text text-anchor=\"middle\" x=\"941.5\" y=\"-7.8\" font-family=\"Times New Roman,serif\" font-size=\"14.00\">class = 1</text>\r\n",
       "</g>\r\n",
       "<!-- 19&#45;&gt;20 -->\r\n",
       "<g id=\"edge20\" class=\"edge\"><title>19&#45;&gt;20</title>\r\n",
       "<path fill=\"none\" stroke=\"black\" d=\"M949.303,-88.9485C948.246,-80.6238 947.106,-71.6509 946.034,-63.2027\"/>\r\n",
       "<polygon fill=\"black\" stroke=\"black\" points=\"949.5,-62.7161 944.768,-53.2367 942.556,-63.598 949.5,-62.7161\"/>\r\n",
       "</g>\r\n",
       "<!-- 21 -->\r\n",
       "<g id=\"node22\" class=\"node\"><title>21</title>\r\n",
       "<polygon fill=\"#e58139\" stroke=\"black\" points=\"1103.5,-53 1005.5,-53 1005.5,-0 1103.5,-0 1103.5,-53\"/>\r\n",
       "<text text-anchor=\"middle\" x=\"1054.5\" y=\"-37.8\" font-family=\"Times New Roman,serif\" font-size=\"14.00\">samples = 46</text>\r\n",
       "<text text-anchor=\"middle\" x=\"1054.5\" y=\"-22.8\" font-family=\"Times New Roman,serif\" font-size=\"14.00\">value = [46, 0]</text>\r\n",
       "<text text-anchor=\"middle\" x=\"1054.5\" y=\"-7.8\" font-family=\"Times New Roman,serif\" font-size=\"14.00\">class = 1</text>\r\n",
       "</g>\r\n",
       "<!-- 19&#45;&gt;21 -->\r\n",
       "<g id=\"edge21\" class=\"edge\"><title>19&#45;&gt;21</title>\r\n",
       "<path fill=\"none\" stroke=\"black\" d=\"M988.825,-88.9485C998.798,-79.6175 1009.64,-69.4722 1019.59,-60.1641\"/>\r\n",
       "<polygon fill=\"black\" stroke=\"black\" points=\"1022.08,-62.6247 1026.99,-53.2367 1017.3,-57.5132 1022.08,-62.6247\"/>\r\n",
       "</g>\r\n",
       "<!-- 23 -->\r\n",
       "<g id=\"node24\" class=\"node\"><title>23</title>\r\n",
       "<polygon fill=\"#8bc6f0\" stroke=\"black\" points=\"1274.5,-157 1164.5,-157 1164.5,-89 1274.5,-89 1274.5,-157\"/>\r\n",
       "<text text-anchor=\"middle\" x=\"1219.5\" y=\"-141.8\" font-family=\"Times New Roman,serif\" font-size=\"14.00\">thalach &lt;= 152.0</text>\r\n",
       "<text text-anchor=\"middle\" x=\"1219.5\" y=\"-126.8\" font-family=\"Times New Roman,serif\" font-size=\"14.00\">samples = 17</text>\r\n",
       "<text text-anchor=\"middle\" x=\"1219.5\" y=\"-111.8\" font-family=\"Times New Roman,serif\" font-size=\"14.00\">value = [5, 12]</text>\r\n",
       "<text text-anchor=\"middle\" x=\"1219.5\" y=\"-96.8\" font-family=\"Times New Roman,serif\" font-size=\"14.00\">class = 0</text>\r\n",
       "</g>\r\n",
       "<!-- 22&#45;&gt;23 -->\r\n",
       "<g id=\"edge23\" class=\"edge\"><title>22&#45;&gt;23</title>\r\n",
       "<path fill=\"none\" stroke=\"black\" d=\"M1219.5,-192.884C1219.5,-184.778 1219.5,-175.982 1219.5,-167.472\"/>\r\n",
       "<polygon fill=\"black\" stroke=\"black\" points=\"1223,-167.299 1219.5,-157.299 1216,-167.299 1223,-167.299\"/>\r\n",
       "</g>\r\n",
       "<!-- 26 -->\r\n",
       "<g id=\"node27\" class=\"node\"><title>26</title>\r\n",
       "<polygon fill=\"#e99355\" stroke=\"black\" points=\"1441,-157 1346,-157 1346,-89 1441,-89 1441,-157\"/>\r\n",
       "<text text-anchor=\"middle\" x=\"1393.5\" y=\"-141.8\" font-family=\"Times New Roman,serif\" font-size=\"14.00\">chol &lt;= 157.0</text>\r\n",
       "<text text-anchor=\"middle\" x=\"1393.5\" y=\"-126.8\" font-family=\"Times New Roman,serif\" font-size=\"14.00\">samples = 8</text>\r\n",
       "<text text-anchor=\"middle\" x=\"1393.5\" y=\"-111.8\" font-family=\"Times New Roman,serif\" font-size=\"14.00\">value = [7, 1]</text>\r\n",
       "<text text-anchor=\"middle\" x=\"1393.5\" y=\"-96.8\" font-family=\"Times New Roman,serif\" font-size=\"14.00\">class = 1</text>\r\n",
       "</g>\r\n",
       "<!-- 22&#45;&gt;26 -->\r\n",
       "<g id=\"edge26\" class=\"edge\"><title>22&#45;&gt;26</title>\r\n",
       "<path fill=\"none\" stroke=\"black\" d=\"M1271.71,-195.397C1292.29,-183.33 1315.98,-169.44 1336.97,-157.138\"/>\r\n",
       "<polygon fill=\"black\" stroke=\"black\" points=\"1338.93,-160.049 1345.78,-151.972 1335.39,-154.01 1338.93,-160.049\"/>\r\n",
       "</g>\r\n",
       "<!-- 24 -->\r\n",
       "<g id=\"node25\" class=\"node\"><title>24</title>\r\n",
       "<polygon fill=\"#f6d5bd\" stroke=\"black\" points=\"1213,-53 1122,-53 1122,-0 1213,-0 1213,-53\"/>\r\n",
       "<text text-anchor=\"middle\" x=\"1167.5\" y=\"-37.8\" font-family=\"Times New Roman,serif\" font-size=\"14.00\">samples = 5</text>\r\n",
       "<text text-anchor=\"middle\" x=\"1167.5\" y=\"-22.8\" font-family=\"Times New Roman,serif\" font-size=\"14.00\">value = [3, 2]</text>\r\n",
       "<text text-anchor=\"middle\" x=\"1167.5\" y=\"-7.8\" font-family=\"Times New Roman,serif\" font-size=\"14.00\">class = 1</text>\r\n",
       "</g>\r\n",
       "<!-- 23&#45;&gt;24 -->\r\n",
       "<g id=\"edge24\" class=\"edge\"><title>23&#45;&gt;24</title>\r\n",
       "<path fill=\"none\" stroke=\"black\" d=\"M1201.31,-88.9485C1196.53,-80.2579 1191.36,-70.8608 1186.53,-62.0917\"/>\r\n",
       "<polygon fill=\"black\" stroke=\"black\" points=\"1189.55,-60.3105 1181.66,-53.2367 1183.42,-63.6853 1189.55,-60.3105\"/>\r\n",
       "</g>\r\n",
       "<!-- 25 -->\r\n",
       "<g id=\"node26\" class=\"node\"><title>25</title>\r\n",
       "<polygon fill=\"#61b1ea\" stroke=\"black\" points=\"1329.5,-53 1231.5,-53 1231.5,-0 1329.5,-0 1329.5,-53\"/>\r\n",
       "<text text-anchor=\"middle\" x=\"1280.5\" y=\"-37.8\" font-family=\"Times New Roman,serif\" font-size=\"14.00\">samples = 12</text>\r\n",
       "<text text-anchor=\"middle\" x=\"1280.5\" y=\"-22.8\" font-family=\"Times New Roman,serif\" font-size=\"14.00\">value = [2, 10]</text>\r\n",
       "<text text-anchor=\"middle\" x=\"1280.5\" y=\"-7.8\" font-family=\"Times New Roman,serif\" font-size=\"14.00\">class = 0</text>\r\n",
       "</g>\r\n",
       "<!-- 23&#45;&gt;25 -->\r\n",
       "<g id=\"edge25\" class=\"edge\"><title>23&#45;&gt;25</title>\r\n",
       "<path fill=\"none\" stroke=\"black\" d=\"M1240.83,-88.9485C1246.5,-80.1664 1252.64,-70.6629 1258.35,-61.815\"/>\r\n",
       "<polygon fill=\"black\" stroke=\"black\" points=\"1261.4,-63.5365 1263.89,-53.2367 1255.52,-59.7402 1261.4,-63.5365\"/>\r\n",
       "</g>\r\n",
       "<!-- 27 -->\r\n",
       "<g id=\"node28\" class=\"node\"><title>27</title>\r\n",
       "<polygon fill=\"#399de5\" stroke=\"black\" points=\"1439,-53 1348,-53 1348,-0 1439,-0 1439,-53\"/>\r\n",
       "<text text-anchor=\"middle\" x=\"1393.5\" y=\"-37.8\" font-family=\"Times New Roman,serif\" font-size=\"14.00\">samples = 1</text>\r\n",
       "<text text-anchor=\"middle\" x=\"1393.5\" y=\"-22.8\" font-family=\"Times New Roman,serif\" font-size=\"14.00\">value = [0, 1]</text>\r\n",
       "<text text-anchor=\"middle\" x=\"1393.5\" y=\"-7.8\" font-family=\"Times New Roman,serif\" font-size=\"14.00\">class = 0</text>\r\n",
       "</g>\r\n",
       "<!-- 26&#45;&gt;27 -->\r\n",
       "<g id=\"edge27\" class=\"edge\"><title>26&#45;&gt;27</title>\r\n",
       "<path fill=\"none\" stroke=\"black\" d=\"M1393.5,-88.9485C1393.5,-80.7153 1393.5,-71.848 1393.5,-63.4814\"/>\r\n",
       "<polygon fill=\"black\" stroke=\"black\" points=\"1397,-63.2367 1393.5,-53.2367 1390,-63.2367 1397,-63.2367\"/>\r\n",
       "</g>\r\n",
       "<!-- 28 -->\r\n",
       "<g id=\"node29\" class=\"node\"><title>28</title>\r\n",
       "<polygon fill=\"#e58139\" stroke=\"black\" points=\"1548,-53 1457,-53 1457,-0 1548,-0 1548,-53\"/>\r\n",
       "<text text-anchor=\"middle\" x=\"1502.5\" y=\"-37.8\" font-family=\"Times New Roman,serif\" font-size=\"14.00\">samples = 7</text>\r\n",
       "<text text-anchor=\"middle\" x=\"1502.5\" y=\"-22.8\" font-family=\"Times New Roman,serif\" font-size=\"14.00\">value = [7, 0]</text>\r\n",
       "<text text-anchor=\"middle\" x=\"1502.5\" y=\"-7.8\" font-family=\"Times New Roman,serif\" font-size=\"14.00\">class = 1</text>\r\n",
       "</g>\r\n",
       "<!-- 26&#45;&gt;28 -->\r\n",
       "<g id=\"edge28\" class=\"edge\"><title>26&#45;&gt;28</title>\r\n",
       "<path fill=\"none\" stroke=\"black\" d=\"M1431.62,-88.9485C1442.49,-79.526 1454.32,-69.2731 1465.14,-59.8906\"/>\r\n",
       "<polygon fill=\"black\" stroke=\"black\" points=\"1467.55,-62.4319 1472.81,-53.2367 1462.97,-57.1428 1467.55,-62.4319\"/>\r\n",
       "</g>\r\n",
       "</g>\r\n",
       "</svg>\r\n"
      ],
      "text/plain": [
       "<graphviz.files.Source at 0x189dc39bbe0>"
      ]
     },
     "metadata": {},
     "output_type": "display_data"
    }
   ],
   "source": [
    "import graphviz\n",
    "\n",
    "with open(\"tree.dot\") as f:\n",
    "    dot_graph = f.read()\n",
    "display(graphviz.Source(dot_graph))"
   ]
  },
  {
   "cell_type": "markdown",
   "metadata": {},
   "source": [
    "<p style=\"font-size:18px\">Each knot (color) represents a new decision.</p>"
   ]
  },
  {
   "cell_type": "code",
   "execution_count": 22,
   "metadata": {},
   "outputs": [
    {
     "name": "stdout",
     "output_type": "stream",
     "text": [
      "Feature importances:\n",
      "[0.         0.         0.1965867  0.02440311 0.07692756 0.\n",
      " 0.         0.04044137 0.         0.05120543 0.03010209 0.16304622\n",
      " 0.41728752]\n"
     ]
    }
   ],
   "source": [
    "print(\"Feature importances:\")\n",
    "print(dtree.feature_importances_)"
   ]
  },
  {
   "cell_type": "code",
   "execution_count": 23,
   "metadata": {},
   "outputs": [
    {
     "data": {
      "text/plain": [
       "(303, 13)"
      ]
     },
     "execution_count": 23,
     "metadata": {},
     "output_type": "execute_result"
    }
   ],
   "source": [
    "data_1 = data.copy()\n",
    "data_1 = data_1.drop(\"target\", axis=1)\n",
    "data_1.shape"
   ]
  },
  {
   "cell_type": "code",
   "execution_count": 24,
   "metadata": {},
   "outputs": [
    {
     "data": {
      "image/png": "[encoded data removed]",
      "text/plain": [
       "<Figure size 432x288 with 1 Axes>"
      ]
     },
     "metadata": {},
     "output_type": "display_data"
    }
   ],
   "source": [
    "def plot_feature_importances_data(model):\n",
    "    n_features = data_1.shape[1]  # here I set the number of features = columns\n",
    "    plt.barh(np.arange(n_features), model.feature_importances_, align='center')\n",
    "    plt.yticks(np.arange(n_features), col_df) \n",
    "    plt.xlabel(\"Feature importance\")\n",
    "    plt.ylabel(\"Feature\")\n",
    "    plt.ylim(-1, n_features)\n",
    "\n",
    "plot_feature_importances_data(dtree) "
   ]
  },
  {
   "cell_type": "markdown",
   "metadata": {},
   "source": [
    "<p style=\"font-size:18px\">We can clearly see that the feature \"cp\" used for the first division is by far the most important feature. Followed by \"ca\" and \"exang\".<br>\n",
    "The disadvantage of decision trees is that even with pre-prunning they tend to overfit their traindata. To make the modell more powerful, i decide my self to apply ensembles method Gradient Boosting.</p>"
   ]
  },
  {
   "cell_type": "markdown",
   "metadata": {},
   "source": [
    "<h3>Gradient Boosting</h3>"
   ]
  },
  {
   "cell_type": "code",
   "execution_count": 25,
   "metadata": {},
   "outputs": [],
   "source": [
    "from sklearn.ensemble import GradientBoostingClassifier"
   ]
  },
  {
   "cell_type": "code",
   "execution_count": 26,
   "metadata": {},
   "outputs": [
    {
     "name": "stdout",
     "output_type": "stream",
     "text": [
      "Accuracy on training set: 0.915\n",
      "Accuracy on test set: 0.769\n"
     ]
    }
   ],
   "source": [
    "gbrt = GradientBoostingClassifier(random_state=0, max_depth=1)\n",
    "gbrt.fit(X_train, y_train)\n",
    "\n",
    "print(\"Accuracy on training set: {:.3f}\".format(gbrt.score(X_train, y_train)))\n",
    "print(\"Accuracy on test set: {:.3f}\".format(gbrt.score(X_test, y_test)))"
   ]
  },
  {
   "cell_type": "markdown",
   "metadata": {},
   "source": [
    "<p style=\"font-size:18px\">As expected, the values for training set get a little lower, accurcy achieved 89%, accuracy for test set achived 80%.</p>"
   ]
  },
  {
   "cell_type": "code",
   "execution_count": 27,
   "metadata": {},
   "outputs": [
    {
     "name": "stdout",
     "output_type": "stream",
     "text": [
      "Accuracy on training set: 0.906\n",
      "Accuracy on test set: 0.802\n"
     ]
    }
   ],
   "source": [
    "gbrt = GradientBoostingClassifier(random_state=0, learning_rate=0.01)\n",
    "gbrt.fit(X_train, y_train)\n",
    "\n",
    "print(\"Accuracy on training set: {:.3f}\".format(gbrt.score(X_train, y_train)))\n",
    "print(\"Accuracy on test set: {:.3f}\".format(gbrt.score(X_test, y_test)))"
   ]
  },
  {
   "cell_type": "markdown",
   "metadata": {},
   "source": [
    "<p style=\"font-size:18px\">With the use of the learning_rate, the model has improved again.</p>"
   ]
  },
  {
   "cell_type": "code",
   "execution_count": 28,
   "metadata": {},
   "outputs": [
    {
     "data": {
      "image/png": "[encoded data removed]",
      "text/plain": [
       "<Figure size 432x288 with 1 Axes>"
      ]
     },
     "metadata": {},
     "output_type": "display_data"
    }
   ],
   "source": [
    "gbrt = GradientBoostingClassifier(random_state=0, max_depth=1)\n",
    "gbrt.fit(X_train, y_train)\n",
    "\n",
    "plot_feature_importances_data(gbrt)"
   ]
  },
  {
   "cell_type": "markdown",
   "metadata": {},
   "source": [
    "<p style=\"font-size:18px\">This graph clearly shows that there are more important features after applying gradient boosting. The values from the \"cp\" and the \"ca\" columns are the most important features.</p>"
   ]
  },
  {
   "cell_type": "markdown",
   "metadata": {},
   "source": [
    "<h3>Uncertainty estimates from classifiers.</h3>"
   ]
  },
  {
   "cell_type": "code",
   "execution_count": 29,
   "metadata": {},
   "outputs": [
    {
     "name": "stdout",
     "output_type": "stream",
     "text": [
      "X_test.shape: (91, 13)\n",
      "Decision function shape: (91,)\n"
     ]
    }
   ],
   "source": [
    "print(\"X_test.shape:\", X_test.shape)\n",
    "print(\"Decision function shape:\",\n",
    "      gbrt.decision_function(X_test).shape)"
   ]
  },
  {
   "cell_type": "markdown",
   "metadata": {},
   "source": [
    "<p style=\"font-size:18px\">The values in the array indicate how strongly the model believes that a data point belongs to the \"positive\" category, in this case category 1. Positive numbers represent a preference for the positive category and negative numbers for a preference for the \"negative\" (other) category.</p>"
   ]
  },
  {
   "cell_type": "code",
   "execution_count": 30,
   "metadata": {},
   "outputs": [
    {
     "name": "stdout",
     "output_type": "stream",
     "text": [
      "Decision function: [ 1.88595948 -1.31422279 -2.07643913 -0.80110472  1.7437854  -1.97433645]\n"
     ]
    }
   ],
   "source": [
    "# show the first few entries of decision_function\n",
    "print(\"Decision function:\", gbrt.decision_function(X_test)[:6])"
   ]
  },
  {
   "cell_type": "code",
   "execution_count": 31,
   "metadata": {},
   "outputs": [],
   "source": [
    "# prediction"
   ]
  },
  {
   "cell_type": "code",
   "execution_count": 32,
   "metadata": {},
   "outputs": [
    {
     "name": "stdout",
     "output_type": "stream",
     "text": [
      "Thresholded decision function:\n",
      " [ True False False False  True False  True False  True  True  True  True\n",
      " False  True  True False  True  True False False  True  True False False\n",
      "  True  True False  True False False False  True False False  True  True\n",
      "  True  True  True False  True  True  True  True False False False  True\n",
      "  True  True  True False False  True  True False  True False False  True\n",
      "  True  True  True False False  True False False False False False  True\n",
      " False  True False  True False  True  True  True False False  True  True\n",
      " False  True  True False  True  True  True]\n",
      "Predictions:\n",
      " [1 0 0 0 1 0 1 0 1 1 1 1 0 1 1 0 1 1 0 0 1 1 0 0 1 1 0 1 0 0 0 1 0 0 1 1 1\n",
      " 1 1 0 1 1 1 1 0 0 0 1 1 1 1 0 0 1 1 0 1 0 0 1 1 1 1 0 0 1 0 0 0 0 0 1 0 1\n",
      " 0 1 0 1 1 1 0 0 1 1 0 1 1 0 1 1 1]\n"
     ]
    }
   ],
   "source": [
    "print(\"Thresholded decision function:\\n\",\n",
    "      gbrt.decision_function(X_test) > 0)\n",
    "print(\"Predictions:\\n\", gbrt.predict(X_test))"
   ]
  },
  {
   "cell_type": "code",
   "execution_count": 33,
   "metadata": {},
   "outputs": [
    {
     "name": "stdout",
     "output_type": "stream",
     "text": [
      "pred is equal to predictions: True\n"
     ]
    }
   ],
   "source": [
    "# make the boolean True/False into 0 and 1\n",
    "greater_zero = (gbrt.decision_function(X_test) > 0).astype(int)\n",
    "# use 0 and 1 as indices into classes_\n",
    "pred = gbrt.classes_[greater_zero]\n",
    "# pred is the same as the output of gbrt.predict\n",
    "print(\"pred is equal to predictions:\",\n",
    "      np.all(pred == gbrt.predict(X_test)))"
   ]
  },
  {
   "cell_type": "code",
   "execution_count": 34,
   "metadata": {},
   "outputs": [
    {
     "name": "stdout",
     "output_type": "stream",
     "text": [
      "Decision function minimum: -4.17 maximum: 4.15\n"
     ]
    }
   ],
   "source": [
    "decision_function = gbrt.decision_function(X_test)\n",
    "print(\"Decision function minimum: {:.2f} maximum: {:.2f}\".format(\n",
    "      np.min(decision_function), np.max(decision_function)))"
   ]
  },
  {
   "cell_type": "markdown",
   "metadata": {},
   "source": [
    "<p style=\"font-size:18px\">The model outputs the scaling range for decision_function from -4.17 to +4.15 and seems sure to have assigned the classes (0 and 1) well.</p> "
   ]
  },
  {
   "cell_type": "markdown",
   "metadata": {},
   "source": [
    "<h3>Conclusion:</h3>\n",
    "<p style=\"font-size:18px\">The use of gradient boosting made the model stronger. The number of trees was reduced to the minimum so that the model does not become too complex and thus lead to overfitting. When checking the uncertainty estimates of the classifiers, the model showed that the classes were assigned very well.</p>   "
   ]
  },
  {
   "cell_type": "code",
   "execution_count": null,
   "metadata": {},
   "outputs": [],
   "source": []
  }
 ],
 "metadata": {
  "kernelspec": {
   "display_name": "Python 3",
   "language": "python",
   "name": "python3"
  },
  "language_info": {
   "codemirror_mode": {
    "name": "ipython",
    "version": 3
   },
   "file_extension": ".py",
   "mimetype": "text/x-python",
   "name": "python",
   "nbconvert_exporter": "python",
   "pygments_lexer": "ipython3",
   "version": "3.8.3"
  }
 },
 "nbformat": 4,
 "nbformat_minor": 4
}
